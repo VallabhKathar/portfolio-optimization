# Portfolio Optimization Project

This project provides a comprehensive portfolio optimization and tracking solution that runs on Google Colab. It allows users to manage and analyze a portfolio of Indian stocks, cryptocurrencies, and commodities.

## Features

- Real-time asset price tracking
- Portfolio performance monitoring
- Risk assessment metrics
- Mean-Variance Optimization
- Automated portfolio rebalancing
- Interactive dashboard

## Components

1. **Data Collection**
   - Indian stocks via NSE API
   - Cryptocurrencies via yfinance/CoinGecko
   - Gold prices via yfinance

2. **Portfolio Analysis**
   - Daily and cumulative returns
   - Real-time P&L tracking
   - Risk metrics (Sharpe Ratio, Sortino Ratio, VaR)
   - Portfolio optimization

3. **Interactive Dashboard**
   - Asset allocation visualization
   - Performance charts
   - Risk-return analysis
   - Rebalancing alerts

## Setup

1. Open the `portfolio_optimization.ipynb` in Google Colab
2. Run the setup cell to install required dependencies
3. Follow the instructions in the notebook to input your portfolio

## Dependencies

All required packages are listed in `requirements.txt` and will be installed automatically in the Colab notebook.

## Usage

1. Input your asset holdings
2. View real-time portfolio analytics
3. Get optimization suggestions
4. Monitor rebalancing alerts
5. Adjust portfolio weights as needed

## Note

This project is designed to run in Google Colab and uses Streamlit for the dashboard interface. Make sure you have a stable internet connection for real-time data fetching. 
